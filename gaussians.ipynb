import numpy as np
import matplotlib.pyplot as plt

def reflection_coupling(a, b, Sigma):
    Sigma_inv_sqrt = np.linalg.inv(np.linalg.cholesky(Sigma))  # Inverse square root of covariance matrix
    z = np.dot(Sigma_inv_sqrt, a - b)
    
    e = z / np.linalg.norm(z)
    
    X = np.random.randn(len(a))  # X ~ N(0, I)
    U = np.random.rand()  # U ~ U(0, 1)
    
    if np.random.normal(0, 1) * U < np.random.normal(0, 1) * np.dot(X + z, X + z):
        Y = X + z
    else:
        Y = X - 2 * np.dot(e, X) * e
    
    X_final = a + np.dot(np.linalg.cholesky(Sigma), X)
    Y_final = b + np.dot(np.linalg.cholesky(Sigma), Y)
    
    return X_final, Y_final

# Example usage:
np.random.seed(42)  # For reproducibility

a = np.array([1, 2])  # Example point a
b = np.array([3, 4])  # Example point b
Sigma = np.array([[2, 0.5], [0.5, 1]])  # Example covariance matrix

# Generate samples
num_samples = 10000
samples_X = []
samples_Y = []
coupled = 0

for _ in range(num_samples):
    X_sample, Y_sample = reflection_coupling(a, b, Sigma)
    samples_X.append(X_sample)
    samples_Y.append(Y_sample)
    if np.allclose(X_sample, Y_sample, atol=1e-6):
        coupled += 1

samples_X = np.array(samples_X)
samples_Y = np.array(samples_Y)

# Visualization
plt.figure(figsize=(8, 8))
plt.scatter(samples_X[:, 0], samples_X[:, 1], color='blue', alpha=0.3, label='X samples', s=5)
plt.scatter(samples_Y[:, 0], samples_Y[:, 1], color='red', alpha=0.3, label='Y samples', s=5)
plt.scatter(a[0], a[1], color='green', label='Mean a', s=10, edgecolors='black', zorder=5)
plt.scatter(b[0], b[1], color='orange', label='Mean b', s=10, edgecolors='black', zorder=5)
plt.legend()
plt.title(f"Reflection-Maximal Coupling Samples (10,000 samples)\nEstimated P(X = Y) ≈ {coupled / num_samples:.4f}")
plt.xlabel("X1")
plt.ylabel("X2")
plt.grid(True)
plt.show()
